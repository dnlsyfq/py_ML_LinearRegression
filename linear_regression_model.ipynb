{
 "cells": [
  {
   "cell_type": "markdown",
   "metadata": {},
   "source": [
    "Linear Regression Model\n",
    "\n",
    "$y = \\beta_0 + \\beta_1x_1 + \\beta_2x_2 + .. + \\beta_nx_n$\n",
    "\n",
    "* $y$ is response\n",
    "* $\\beta_0 \\text{is the intercept} $\n",
    "* $\\beta_1 \\text{is coefficient for} x_1$\n",
    "* $\\beta_n \\text{is coefficient for} x_n$\n",
    "\n",
    "\n",
    "The $\\beta$ value are called model coefficients\n",
    "     * Learned during model fitting using least square\n",
    "     * Fitted model is then used to make predictions"
   ]
  },
  {
   "cell_type": "code",
   "execution_count": null,
   "metadata": {},
   "outputs": [],
   "source": []
  },
  {
   "cell_type": "markdown",
   "metadata": {},
   "source": []
  }
 ],
 "metadata": {
  "language_info": {
   "name": "python"
  }
 },
 "nbformat": 4,
 "nbformat_minor": 2
}

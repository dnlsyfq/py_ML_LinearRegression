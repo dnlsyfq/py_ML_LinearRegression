{
 "cells": [
  {
   "cell_type": "markdown",
   "metadata": {},
   "source": [
    "<img src=\"https://rhyme.com/assets/img/logo-dark.png\" align=\"center\">"
   ]
  },
  {
   "cell_type": "markdown",
   "metadata": {},
   "source": [
    "<h2 align=\"center\"> Univariate Linear Regression </h2>"
   ]
  },
  {
   "cell_type": "markdown",
   "metadata": {},
   "source": [
    " "
   ]
  },
  {
   "cell_type": "markdown",
   "metadata": {},
   "source": [
    "### Task 2: Load the Data and Libraries\n",
    "---"
   ]
  },
  {
   "cell_type": "code",
   "execution_count": 1,
   "metadata": {},
   "outputs": [],
   "source": [
    "import matplotlib.pyplot as plt \n",
    "plt.style.use('ggplot')\n",
    "%matplotlib inline"
   ]
  },
  {
   "cell_type": "code",
   "execution_count": 2,
   "metadata": {},
   "outputs": [],
   "source": [
    "import numpy as np\n",
    "import pandas as pd  \n",
    "import seaborn as sns \n",
    "plt.rcParams['figure.figsize'] = (12, 8)"
   ]
  },
  {
   "cell_type": "code",
   "execution_count": 5,
   "metadata": {},
   "outputs": [
    {
     "output_type": "execute_result",
     "data": {
      "text/plain": "   Population   Profit\n0      6.1101  17.5920\n1      5.5277   9.1302\n2      8.5186  13.6620\n3      7.0032  11.8540\n4      5.8598   6.8233",
      "text/html": "<div>\n<style scoped>\n    .dataframe tbody tr th:only-of-type {\n        vertical-align: middle;\n    }\n\n    .dataframe tbody tr th {\n        vertical-align: top;\n    }\n\n    .dataframe thead th {\n        text-align: right;\n    }\n</style>\n<table border=\"1\" class=\"dataframe\">\n  <thead>\n    <tr style=\"text-align: right;\">\n      <th></th>\n      <th>Population</th>\n      <th>Profit</th>\n    </tr>\n  </thead>\n  <tbody>\n    <tr>\n      <th>0</th>\n      <td>6.1101</td>\n      <td>17.5920</td>\n    </tr>\n    <tr>\n      <th>1</th>\n      <td>5.5277</td>\n      <td>9.1302</td>\n    </tr>\n    <tr>\n      <th>2</th>\n      <td>8.5186</td>\n      <td>13.6620</td>\n    </tr>\n    <tr>\n      <th>3</th>\n      <td>7.0032</td>\n      <td>11.8540</td>\n    </tr>\n    <tr>\n      <th>4</th>\n      <td>5.8598</td>\n      <td>6.8233</td>\n    </tr>\n  </tbody>\n</table>\n</div>"
     },
     "metadata": {},
     "execution_count": 5
    }
   ],
   "source": [
    "data = pd.read_csv('bike_sharing_data.txt')\n",
    "data.head()"
   ]
  },
  {
   "cell_type": "markdown",
   "metadata": {},
   "source": [
    "### Task 3: Visualize the Data\n",
    "---"
   ]
  },
  {
   "cell_type": "code",
   "execution_count": 9,
   "metadata": {},
   "outputs": [
    {
     "output_type": "display_data",
     "data": {
      "text/plain": "<Figure size 864x576 with 1 Axes>",
      "image/svg+xml": "<?xml version=\"1.0\" encoding=\"utf-8\" standalone=\"no\"?>\n<!DOCTYPE svg PUBLIC \"-//W3C//DTD SVG 1.1//EN\"\n  \"http://www.w3.org/Graphics/SVG/1.1/DTD/svg11.dtd\">\n<!-- Created with matplotlib (https://matplotlib.org/) -->\n<svg height=\"498.513625pt\" version=\"1.1\" viewBox=\"0 0 719.33875 498.513625\" width=\"719.33875pt\" xmlns=\"http://www.w3.org/2000/svg\" xmlns:xlink=\"http://www.w3.org/1999/xlink\">\n <defs>\n  <style type=\"text/css\">\n*{stroke-linecap:butt;stroke-linejoin:round;}\n  </style>\n </defs>\n <g id=\"figure_1\">\n  <g id=\"patch_1\">\n   <path d=\"M 0 498.513625 \nL 719.33875 498.513625 \nL 719.33875 0 \nL 0 0 \nz\n\" style=\"fill:none;\"/>\n  </g>\n  <g id=\"axes_1\">\n   <g id=\"patch_2\">\n    <path d=\"M 42.53875 459.02175 \nL 712.13875 459.02175 \nL 712.13875 24.14175 \nL 42.53875 24.14175 \nz\n\" style=\"fill:#e5e5e5;\"/>\n   </g>\n   <g id=\"matplotlib.axis_1\">\n    <g id=\"xtick_1\">\n     <g id=\"line2d_1\">\n      <path clip-path=\"url(#pf45515aa06)\" d=\"M 72.196876 459.02175 \nL 72.196876 24.14175 \n\" style=\"fill:none;stroke:#ffffff;stroke-linecap:square;stroke-width:0.8;\"/>\n     </g>\n     <g id=\"line2d_2\">\n      <defs>\n       <path d=\"M 0 0 \nL 0 3.5 \n\" id=\"m3d5e159483\" style=\"stroke:#555555;stroke-width:0.8;\"/>\n      </defs>\n      <g>\n       <use style=\"fill:#555555;stroke:#555555;stroke-width:0.8;\" x=\"72.196876\" xlink:href=\"#m3d5e159483\" y=\"459.02175\"/>\n      </g>\n     </g>\n     <g id=\"text_1\">\n      <!-- 5.0 -->\n      <defs>\n       <path d=\"M 10.796875 72.90625 \nL 49.515625 72.90625 \nL 49.515625 64.59375 \nL 19.828125 64.59375 \nL 19.828125 46.734375 \nQ 21.96875 47.46875 24.109375 47.828125 \nQ 26.265625 48.1875 28.421875 48.1875 \nQ 40.625 48.1875 47.75 41.5 \nQ 54.890625 34.8125 54.890625 23.390625 \nQ 54.890625 11.625 47.5625 5.09375 \nQ 40.234375 -1.421875 26.90625 -1.421875 \nQ 22.3125 -1.421875 17.546875 -0.640625 \nQ 12.796875 0.140625 7.71875 1.703125 \nL 7.71875 11.625 \nQ 12.109375 9.234375 16.796875 8.0625 \nQ 21.484375 6.890625 26.703125 6.890625 \nQ 35.15625 6.890625 40.078125 11.328125 \nQ 45.015625 15.765625 45.015625 23.390625 \nQ 45.015625 31 40.078125 35.4375 \nQ 35.15625 39.890625 26.703125 39.890625 \nQ 22.75 39.890625 18.8125 39.015625 \nQ 14.890625 38.140625 10.796875 36.28125 \nz\n\" id=\"DejaVuSans-53\"/>\n       <path d=\"M 10.6875 12.40625 \nL 21 12.40625 \nL 21 0 \nL 10.6875 0 \nz\n\" id=\"DejaVuSans-46\"/>\n       <path d=\"M 31.78125 66.40625 \nQ 24.171875 66.40625 20.328125 58.90625 \nQ 16.5 51.421875 16.5 36.375 \nQ 16.5 21.390625 20.328125 13.890625 \nQ 24.171875 6.390625 31.78125 6.390625 \nQ 39.453125 6.390625 43.28125 13.890625 \nQ 47.125 21.390625 47.125 36.375 \nQ 47.125 51.421875 43.28125 58.90625 \nQ 39.453125 66.40625 31.78125 66.40625 \nz\nM 31.78125 74.21875 \nQ 44.046875 74.21875 50.515625 64.515625 \nQ 56.984375 54.828125 56.984375 36.375 \nQ 56.984375 17.96875 50.515625 8.265625 \nQ 44.046875 -1.421875 31.78125 -1.421875 \nQ 19.53125 -1.421875 13.0625 8.265625 \nQ 6.59375 17.96875 6.59375 36.375 \nQ 6.59375 54.828125 13.0625 64.515625 \nQ 19.53125 74.21875 31.78125 74.21875 \nz\n\" id=\"DejaVuSans-48\"/>\n      </defs>\n      <g style=\"fill:#555555;\" transform=\"translate(64.245313 473.620187)scale(0.1 -0.1)\">\n       <use xlink:href=\"#DejaVuSans-53\"/>\n       <use x=\"63.623047\" xlink:href=\"#DejaVuSans-46\"/>\n       <use x=\"95.410156\" xlink:href=\"#DejaVuSans-48\"/>\n      </g>\n     </g>\n    </g>\n    <g id=\"xtick_2\">\n     <g id=\"line2d_3\">\n      <path clip-path=\"url(#pf45515aa06)\" d=\"M 160.746976 459.02175 \nL 160.746976 24.14175 \n\" style=\"fill:none;stroke:#ffffff;stroke-linecap:square;stroke-width:0.8;\"/>\n     </g>\n     <g id=\"line2d_4\">\n      <g>\n       <use style=\"fill:#555555;stroke:#555555;stroke-width:0.8;\" x=\"160.746976\" xlink:href=\"#m3d5e159483\" y=\"459.02175\"/>\n      </g>\n     </g>\n     <g id=\"text_2\">\n      <!-- 7.5 -->\n      <defs>\n       <path d=\"M 8.203125 72.90625 \nL 55.078125 72.90625 \nL 55.078125 68.703125 \nL 28.609375 0 \nL 18.3125 0 \nL 43.21875 64.59375 \nL 8.203125 64.59375 \nz\n\" id=\"DejaVuSans-55\"/>\n      </defs>\n      <g style=\"fill:#555555;\" transform=\"translate(152.795413 473.620187)scale(0.1 -0.1)\">\n       <use xlink:href=\"#DejaVuSans-55\"/>\n       <use x=\"63.623047\" xlink:href=\"#DejaVuSans-46\"/>\n       <use x=\"95.410156\" xlink:href=\"#DejaVuSans-53\"/>\n      </g>\n     </g>\n    </g>\n    <g id=\"xtick_3\">\n     <g id=\"line2d_5\">\n      <path clip-path=\"url(#pf45515aa06)\" d=\"M 249.297076 459.02175 \nL 249.297076 24.14175 \n\" style=\"fill:none;stroke:#ffffff;stroke-linecap:square;stroke-width:0.8;\"/>\n     </g>\n     <g id=\"line2d_6\">\n      <g>\n       <use style=\"fill:#555555;stroke:#555555;stroke-width:0.8;\" x=\"249.297076\" xlink:href=\"#m3d5e159483\" y=\"459.02175\"/>\n      </g>\n     </g>\n     <g id=\"text_3\">\n      <!-- 10.0 -->\n      <defs>\n       <path d=\"M 12.40625 8.296875 \nL 28.515625 8.296875 \nL 28.515625 63.921875 \nL 10.984375 60.40625 \nL 10.984375 69.390625 \nL 28.421875 72.90625 \nL 38.28125 72.90625 \nL 38.28125 8.296875 \nL 54.390625 8.296875 \nL 54.390625 0 \nL 12.40625 0 \nz\n\" id=\"DejaVuSans-49\"/>\n      </defs>\n      <g style=\"fill:#555555;\" transform=\"translate(238.164264 473.620187)scale(0.1 -0.1)\">\n       <use xlink:href=\"#DejaVuSans-49\"/>\n       <use x=\"63.623047\" xlink:href=\"#DejaVuSans-48\"/>\n       <use x=\"127.246094\" xlink:href=\"#DejaVuSans-46\"/>\n       <use x=\"159.033203\" xlink:href=\"#DejaVuSans-48\"/>\n      </g>\n     </g>\n    </g>\n    <g id=\"xtick_4\">\n     <g id=\"line2d_7\">\n      <path clip-path=\"url(#pf45515aa06)\" d=\"M 337.847176 459.02175 \nL 337.847176 24.14175 \n\" style=\"fill:none;stroke:#ffffff;stroke-linecap:square;stroke-width:0.8;\"/>\n     </g>\n     <g id=\"line2d_8\">\n      <g>\n       <use style=\"fill:#555555;stroke:#555555;stroke-width:0.8;\" x=\"337.847176\" xlink:href=\"#m3d5e159483\" y=\"459.02175\"/>\n      </g>\n     </g>\n     <g id=\"text_4\">\n      <!-- 12.5 -->\n      <defs>\n       <path d=\"M 19.1875 8.296875 \nL 53.609375 8.296875 \nL 53.609375 0 \nL 7.328125 0 \nL 7.328125 8.296875 \nQ 12.9375 14.109375 22.625 23.890625 \nQ 32.328125 33.6875 34.8125 36.53125 \nQ 39.546875 41.84375 41.421875 45.53125 \nQ 43.3125 49.21875 43.3125 52.78125 \nQ 43.3125 58.59375 39.234375 62.25 \nQ 35.15625 65.921875 28.609375 65.921875 \nQ 23.96875 65.921875 18.8125 64.3125 \nQ 13.671875 62.703125 7.8125 59.421875 \nL 7.8125 69.390625 \nQ 13.765625 71.78125 18.9375 73 \nQ 24.125 74.21875 28.421875 74.21875 \nQ 39.75 74.21875 46.484375 68.546875 \nQ 53.21875 62.890625 53.21875 53.421875 \nQ 53.21875 48.921875 51.53125 44.890625 \nQ 49.859375 40.875 45.40625 35.40625 \nQ 44.1875 33.984375 37.640625 27.21875 \nQ 31.109375 20.453125 19.1875 8.296875 \nz\n\" id=\"DejaVuSans-50\"/>\n      </defs>\n      <g style=\"fill:#555555;\" transform=\"translate(326.714364 473.620187)scale(0.1 -0.1)\">\n       <use xlink:href=\"#DejaVuSans-49\"/>\n       <use x=\"63.623047\" xlink:href=\"#DejaVuSans-50\"/>\n       <use x=\"127.246094\" xlink:href=\"#DejaVuSans-46\"/>\n       <use x=\"159.033203\" xlink:href=\"#DejaVuSans-53\"/>\n      </g>\n     </g>\n    </g>\n    <g id=\"xtick_5\">\n     <g id=\"line2d_9\">\n      <path clip-path=\"url(#pf45515aa06)\" d=\"M 426.397277 459.02175 \nL 426.397277 24.14175 \n\" style=\"fill:none;stroke:#ffffff;stroke-linecap:square;stroke-width:0.8;\"/>\n     </g>\n     <g id=\"line2d_10\">\n      <g>\n       <use style=\"fill:#555555;stroke:#555555;stroke-width:0.8;\" x=\"426.397277\" xlink:href=\"#m3d5e159483\" y=\"459.02175\"/>\n      </g>\n     </g>\n     <g id=\"text_5\">\n      <!-- 15.0 -->\n      <g style=\"fill:#555555;\" transform=\"translate(415.264464 473.620187)scale(0.1 -0.1)\">\n       <use xlink:href=\"#DejaVuSans-49\"/>\n       <use x=\"63.623047\" xlink:href=\"#DejaVuSans-53\"/>\n       <use x=\"127.246094\" xlink:href=\"#DejaVuSans-46\"/>\n       <use x=\"159.033203\" xlink:href=\"#DejaVuSans-48\"/>\n      </g>\n     </g>\n    </g>\n    <g id=\"xtick_6\">\n     <g id=\"line2d_11\">\n      <path clip-path=\"url(#pf45515aa06)\" d=\"M 514.947377 459.02175 \nL 514.947377 24.14175 \n\" style=\"fill:none;stroke:#ffffff;stroke-linecap:square;stroke-width:0.8;\"/>\n     </g>\n     <g id=\"line2d_12\">\n      <g>\n       <use style=\"fill:#555555;stroke:#555555;stroke-width:0.8;\" x=\"514.947377\" xlink:href=\"#m3d5e159483\" y=\"459.02175\"/>\n      </g>\n     </g>\n     <g id=\"text_6\">\n      <!-- 17.5 -->\n      <g style=\"fill:#555555;\" transform=\"translate(503.814564 473.620187)scale(0.1 -0.1)\">\n       <use xlink:href=\"#DejaVuSans-49\"/>\n       <use x=\"63.623047\" xlink:href=\"#DejaVuSans-55\"/>\n       <use x=\"127.246094\" xlink:href=\"#DejaVuSans-46\"/>\n       <use x=\"159.033203\" xlink:href=\"#DejaVuSans-53\"/>\n      </g>\n     </g>\n    </g>\n    <g id=\"xtick_7\">\n     <g id=\"line2d_13\">\n      <path clip-path=\"url(#pf45515aa06)\" d=\"M 603.497477 459.02175 \nL 603.497477 24.14175 \n\" style=\"fill:none;stroke:#ffffff;stroke-linecap:square;stroke-width:0.8;\"/>\n     </g>\n     <g id=\"line2d_14\">\n      <g>\n       <use style=\"fill:#555555;stroke:#555555;stroke-width:0.8;\" x=\"603.497477\" xlink:href=\"#m3d5e159483\" y=\"459.02175\"/>\n      </g>\n     </g>\n     <g id=\"text_7\">\n      <!-- 20.0 -->\n      <g style=\"fill:#555555;\" transform=\"translate(592.364664 473.620187)scale(0.1 -0.1)\">\n       <use xlink:href=\"#DejaVuSans-50\"/>\n       <use x=\"63.623047\" xlink:href=\"#DejaVuSans-48\"/>\n       <use x=\"127.246094\" xlink:href=\"#DejaVuSans-46\"/>\n       <use x=\"159.033203\" xlink:href=\"#DejaVuSans-48\"/>\n      </g>\n     </g>\n    </g>\n    <g id=\"xtick_8\">\n     <g id=\"line2d_15\">\n      <path clip-path=\"url(#pf45515aa06)\" d=\"M 692.047577 459.02175 \nL 692.047577 24.14175 \n\" style=\"fill:none;stroke:#ffffff;stroke-linecap:square;stroke-width:0.8;\"/>\n     </g>\n     <g id=\"line2d_16\">\n      <g>\n       <use style=\"fill:#555555;stroke:#555555;stroke-width:0.8;\" x=\"692.047577\" xlink:href=\"#m3d5e159483\" y=\"459.02175\"/>\n      </g>\n     </g>\n     <g id=\"text_8\">\n      <!-- 22.5 -->\n      <g style=\"fill:#555555;\" transform=\"translate(680.914765 473.620187)scale(0.1 -0.1)\">\n       <use xlink:href=\"#DejaVuSans-50\"/>\n       <use x=\"63.623047\" xlink:href=\"#DejaVuSans-50\"/>\n       <use x=\"127.246094\" xlink:href=\"#DejaVuSans-46\"/>\n       <use x=\"159.033203\" xlink:href=\"#DejaVuSans-53\"/>\n      </g>\n     </g>\n    </g>\n    <g id=\"text_9\">\n     <!-- Population -->\n     <defs>\n      <path d=\"M 19.671875 64.796875 \nL 19.671875 37.40625 \nL 32.078125 37.40625 \nQ 38.96875 37.40625 42.71875 40.96875 \nQ 46.484375 44.53125 46.484375 51.125 \nQ 46.484375 57.671875 42.71875 61.234375 \nQ 38.96875 64.796875 32.078125 64.796875 \nz\nM 9.8125 72.90625 \nL 32.078125 72.90625 \nQ 44.34375 72.90625 50.609375 67.359375 \nQ 56.890625 61.8125 56.890625 51.125 \nQ 56.890625 40.328125 50.609375 34.8125 \nQ 44.34375 29.296875 32.078125 29.296875 \nL 19.671875 29.296875 \nL 19.671875 0 \nL 9.8125 0 \nz\n\" id=\"DejaVuSans-80\"/>\n      <path d=\"M 30.609375 48.390625 \nQ 23.390625 48.390625 19.1875 42.75 \nQ 14.984375 37.109375 14.984375 27.296875 \nQ 14.984375 17.484375 19.15625 11.84375 \nQ 23.34375 6.203125 30.609375 6.203125 \nQ 37.796875 6.203125 41.984375 11.859375 \nQ 46.1875 17.53125 46.1875 27.296875 \nQ 46.1875 37.015625 41.984375 42.703125 \nQ 37.796875 48.390625 30.609375 48.390625 \nz\nM 30.609375 56 \nQ 42.328125 56 49.015625 48.375 \nQ 55.71875 40.765625 55.71875 27.296875 \nQ 55.71875 13.875 49.015625 6.21875 \nQ 42.328125 -1.421875 30.609375 -1.421875 \nQ 18.84375 -1.421875 12.171875 6.21875 \nQ 5.515625 13.875 5.515625 27.296875 \nQ 5.515625 40.765625 12.171875 48.375 \nQ 18.84375 56 30.609375 56 \nz\n\" id=\"DejaVuSans-111\"/>\n      <path d=\"M 18.109375 8.203125 \nL 18.109375 -20.796875 \nL 9.078125 -20.796875 \nL 9.078125 54.6875 \nL 18.109375 54.6875 \nL 18.109375 46.390625 \nQ 20.953125 51.265625 25.265625 53.625 \nQ 29.59375 56 35.59375 56 \nQ 45.5625 56 51.78125 48.09375 \nQ 58.015625 40.1875 58.015625 27.296875 \nQ 58.015625 14.40625 51.78125 6.484375 \nQ 45.5625 -1.421875 35.59375 -1.421875 \nQ 29.59375 -1.421875 25.265625 0.953125 \nQ 20.953125 3.328125 18.109375 8.203125 \nz\nM 48.6875 27.296875 \nQ 48.6875 37.203125 44.609375 42.84375 \nQ 40.53125 48.484375 33.40625 48.484375 \nQ 26.265625 48.484375 22.1875 42.84375 \nQ 18.109375 37.203125 18.109375 27.296875 \nQ 18.109375 17.390625 22.1875 11.75 \nQ 26.265625 6.109375 33.40625 6.109375 \nQ 40.53125 6.109375 44.609375 11.75 \nQ 48.6875 17.390625 48.6875 27.296875 \nz\n\" id=\"DejaVuSans-112\"/>\n      <path d=\"M 8.5 21.578125 \nL 8.5 54.6875 \nL 17.484375 54.6875 \nL 17.484375 21.921875 \nQ 17.484375 14.15625 20.5 10.265625 \nQ 23.53125 6.390625 29.59375 6.390625 \nQ 36.859375 6.390625 41.078125 11.03125 \nQ 45.3125 15.671875 45.3125 23.6875 \nL 45.3125 54.6875 \nL 54.296875 54.6875 \nL 54.296875 0 \nL 45.3125 0 \nL 45.3125 8.40625 \nQ 42.046875 3.421875 37.71875 1 \nQ 33.40625 -1.421875 27.6875 -1.421875 \nQ 18.265625 -1.421875 13.375 4.4375 \nQ 8.5 10.296875 8.5 21.578125 \nz\nM 31.109375 56 \nz\n\" id=\"DejaVuSans-117\"/>\n      <path d=\"M 9.421875 75.984375 \nL 18.40625 75.984375 \nL 18.40625 0 \nL 9.421875 0 \nz\n\" id=\"DejaVuSans-108\"/>\n      <path d=\"M 34.28125 27.484375 \nQ 23.390625 27.484375 19.1875 25 \nQ 14.984375 22.515625 14.984375 16.5 \nQ 14.984375 11.71875 18.140625 8.90625 \nQ 21.296875 6.109375 26.703125 6.109375 \nQ 34.1875 6.109375 38.703125 11.40625 \nQ 43.21875 16.703125 43.21875 25.484375 \nL 43.21875 27.484375 \nz\nM 52.203125 31.203125 \nL 52.203125 0 \nL 43.21875 0 \nL 43.21875 8.296875 \nQ 40.140625 3.328125 35.546875 0.953125 \nQ 30.953125 -1.421875 24.3125 -1.421875 \nQ 15.921875 -1.421875 10.953125 3.296875 \nQ 6 8.015625 6 15.921875 \nQ 6 25.140625 12.171875 29.828125 \nQ 18.359375 34.515625 30.609375 34.515625 \nL 43.21875 34.515625 \nL 43.21875 35.40625 \nQ 43.21875 41.609375 39.140625 45 \nQ 35.0625 48.390625 27.6875 48.390625 \nQ 23 48.390625 18.546875 47.265625 \nQ 14.109375 46.140625 10.015625 43.890625 \nL 10.015625 52.203125 \nQ 14.9375 54.109375 19.578125 55.046875 \nQ 24.21875 56 28.609375 56 \nQ 40.484375 56 46.34375 49.84375 \nQ 52.203125 43.703125 52.203125 31.203125 \nz\n\" id=\"DejaVuSans-97\"/>\n      <path d=\"M 18.3125 70.21875 \nL 18.3125 54.6875 \nL 36.8125 54.6875 \nL 36.8125 47.703125 \nL 18.3125 47.703125 \nL 18.3125 18.015625 \nQ 18.3125 11.328125 20.140625 9.421875 \nQ 21.96875 7.515625 27.59375 7.515625 \nL 36.8125 7.515625 \nL 36.8125 0 \nL 27.59375 0 \nQ 17.1875 0 13.234375 3.875 \nQ 9.28125 7.765625 9.28125 18.015625 \nL 9.28125 47.703125 \nL 2.6875 47.703125 \nL 2.6875 54.6875 \nL 9.28125 54.6875 \nL 9.28125 70.21875 \nz\n\" id=\"DejaVuSans-116\"/>\n      <path d=\"M 9.421875 54.6875 \nL 18.40625 54.6875 \nL 18.40625 0 \nL 9.421875 0 \nz\nM 9.421875 75.984375 \nL 18.40625 75.984375 \nL 18.40625 64.59375 \nL 9.421875 64.59375 \nz\n\" id=\"DejaVuSans-105\"/>\n      <path d=\"M 54.890625 33.015625 \nL 54.890625 0 \nL 45.90625 0 \nL 45.90625 32.71875 \nQ 45.90625 40.484375 42.875 44.328125 \nQ 39.84375 48.1875 33.796875 48.1875 \nQ 26.515625 48.1875 22.3125 43.546875 \nQ 18.109375 38.921875 18.109375 30.90625 \nL 18.109375 0 \nL 9.078125 0 \nL 9.078125 54.6875 \nL 18.109375 54.6875 \nL 18.109375 46.1875 \nQ 21.34375 51.125 25.703125 53.5625 \nQ 30.078125 56 35.796875 56 \nQ 45.21875 56 50.046875 50.171875 \nQ 54.890625 44.34375 54.890625 33.015625 \nz\n\" id=\"DejaVuSans-110\"/>\n     </defs>\n     <g style=\"fill:#555555;\" transform=\"translate(345.604375 488.818)scale(0.12 -0.12)\">\n      <use xlink:href=\"#DejaVuSans-80\"/>\n      <use x=\"60.255859\" xlink:href=\"#DejaVuSans-111\"/>\n      <use x=\"121.4375\" xlink:href=\"#DejaVuSans-112\"/>\n      <use x=\"184.914062\" xlink:href=\"#DejaVuSans-117\"/>\n      <use x=\"248.292969\" xlink:href=\"#DejaVuSans-108\"/>\n      <use x=\"276.076172\" xlink:href=\"#DejaVuSans-97\"/>\n      <use x=\"337.355469\" xlink:href=\"#DejaVuSans-116\"/>\n      <use x=\"376.564453\" xlink:href=\"#DejaVuSans-105\"/>\n      <use x=\"404.347656\" xlink:href=\"#DejaVuSans-111\"/>\n      <use x=\"465.529297\" xlink:href=\"#DejaVuSans-110\"/>\n     </g>\n    </g>\n   </g>\n   <g id=\"matplotlib.axis_2\">\n    <g id=\"ytick_1\">\n     <g id=\"line2d_17\">\n      <path clip-path=\"url(#pf45515aa06)\" d=\"M 42.53875 399.66101 \nL 712.13875 399.66101 \n\" style=\"fill:none;stroke:#ffffff;stroke-linecap:square;stroke-width:0.8;\"/>\n     </g>\n     <g id=\"line2d_18\">\n      <defs>\n       <path d=\"M 0 0 \nL -3.5 0 \n\" id=\"m6b6974c86e\" style=\"stroke:#555555;stroke-width:0.8;\"/>\n      </defs>\n      <g>\n       <use style=\"fill:#555555;stroke:#555555;stroke-width:0.8;\" x=\"42.53875\" xlink:href=\"#m6b6974c86e\" y=\"399.66101\"/>\n      </g>\n     </g>\n     <g id=\"text_10\">\n      <!-- 0 -->\n      <g style=\"fill:#555555;\" transform=\"translate(29.17625 403.460229)scale(0.1 -0.1)\">\n       <use xlink:href=\"#DejaVuSans-48\"/>\n      </g>\n     </g>\n    </g>\n    <g id=\"ytick_2\">\n     <g id=\"line2d_19\">\n      <path clip-path=\"url(#pf45515aa06)\" d=\"M 42.53875 326.020345 \nL 712.13875 326.020345 \n\" style=\"fill:none;stroke:#ffffff;stroke-linecap:square;stroke-width:0.8;\"/>\n     </g>\n     <g id=\"line2d_20\">\n      <g>\n       <use style=\"fill:#555555;stroke:#555555;stroke-width:0.8;\" x=\"42.53875\" xlink:href=\"#m6b6974c86e\" y=\"326.020345\"/>\n      </g>\n     </g>\n     <g id=\"text_11\">\n      <!-- 5 -->\n      <g style=\"fill:#555555;\" transform=\"translate(29.17625 329.819564)scale(0.1 -0.1)\">\n       <use xlink:href=\"#DejaVuSans-53\"/>\n      </g>\n     </g>\n    </g>\n    <g id=\"ytick_3\">\n     <g id=\"line2d_21\">\n      <path clip-path=\"url(#pf45515aa06)\" d=\"M 42.53875 252.379681 \nL 712.13875 252.379681 \n\" style=\"fill:none;stroke:#ffffff;stroke-linecap:square;stroke-width:0.8;\"/>\n     </g>\n     <g id=\"line2d_22\">\n      <g>\n       <use style=\"fill:#555555;stroke:#555555;stroke-width:0.8;\" x=\"42.53875\" xlink:href=\"#m6b6974c86e\" y=\"252.379681\"/>\n      </g>\n     </g>\n     <g id=\"text_12\">\n      <!-- 10 -->\n      <g style=\"fill:#555555;\" transform=\"translate(22.81375 256.178899)scale(0.1 -0.1)\">\n       <use xlink:href=\"#DejaVuSans-49\"/>\n       <use x=\"63.623047\" xlink:href=\"#DejaVuSans-48\"/>\n      </g>\n     </g>\n    </g>\n    <g id=\"ytick_4\">\n     <g id=\"line2d_23\">\n      <path clip-path=\"url(#pf45515aa06)\" d=\"M 42.53875 178.739016 \nL 712.13875 178.739016 \n\" style=\"fill:none;stroke:#ffffff;stroke-linecap:square;stroke-width:0.8;\"/>\n     </g>\n     <g id=\"line2d_24\">\n      <g>\n       <use style=\"fill:#555555;stroke:#555555;stroke-width:0.8;\" x=\"42.53875\" xlink:href=\"#m6b6974c86e\" y=\"178.739016\"/>\n      </g>\n     </g>\n     <g id=\"text_13\">\n      <!-- 15 -->\n      <g style=\"fill:#555555;\" transform=\"translate(22.81375 182.538235)scale(0.1 -0.1)\">\n       <use xlink:href=\"#DejaVuSans-49\"/>\n       <use x=\"63.623047\" xlink:href=\"#DejaVuSans-53\"/>\n      </g>\n     </g>\n    </g>\n    <g id=\"ytick_5\">\n     <g id=\"line2d_25\">\n      <path clip-path=\"url(#pf45515aa06)\" d=\"M 42.53875 105.098351 \nL 712.13875 105.098351 \n\" style=\"fill:none;stroke:#ffffff;stroke-linecap:square;stroke-width:0.8;\"/>\n     </g>\n     <g id=\"line2d_26\">\n      <g>\n       <use style=\"fill:#555555;stroke:#555555;stroke-width:0.8;\" x=\"42.53875\" xlink:href=\"#m6b6974c86e\" y=\"105.098351\"/>\n      </g>\n     </g>\n     <g id=\"text_14\">\n      <!-- 20 -->\n      <g style=\"fill:#555555;\" transform=\"translate(22.81375 108.89757)scale(0.1 -0.1)\">\n       <use xlink:href=\"#DejaVuSans-50\"/>\n       <use x=\"63.623047\" xlink:href=\"#DejaVuSans-48\"/>\n      </g>\n     </g>\n    </g>\n    <g id=\"ytick_6\">\n     <g id=\"line2d_27\">\n      <path clip-path=\"url(#pf45515aa06)\" d=\"M 42.53875 31.457687 \nL 712.13875 31.457687 \n\" style=\"fill:none;stroke:#ffffff;stroke-linecap:square;stroke-width:0.8;\"/>\n     </g>\n     <g id=\"line2d_28\">\n      <g>\n       <use style=\"fill:#555555;stroke:#555555;stroke-width:0.8;\" x=\"42.53875\" xlink:href=\"#m6b6974c86e\" y=\"31.457687\"/>\n      </g>\n     </g>\n     <g id=\"text_15\">\n      <!-- 25 -->\n      <g style=\"fill:#555555;\" transform=\"translate(22.81375 35.256906)scale(0.1 -0.1)\">\n       <use xlink:href=\"#DejaVuSans-50\"/>\n       <use x=\"63.623047\" xlink:href=\"#DejaVuSans-53\"/>\n      </g>\n     </g>\n    </g>\n    <g id=\"text_16\">\n     <!-- Profit -->\n     <defs>\n      <path d=\"M 41.109375 46.296875 \nQ 39.59375 47.171875 37.8125 47.578125 \nQ 36.03125 48 33.890625 48 \nQ 26.265625 48 22.1875 43.046875 \nQ 18.109375 38.09375 18.109375 28.8125 \nL 18.109375 0 \nL 9.078125 0 \nL 9.078125 54.6875 \nL 18.109375 54.6875 \nL 18.109375 46.1875 \nQ 20.953125 51.171875 25.484375 53.578125 \nQ 30.03125 56 36.53125 56 \nQ 37.453125 56 38.578125 55.875 \nQ 39.703125 55.765625 41.0625 55.515625 \nz\n\" id=\"DejaVuSans-114\"/>\n      <path d=\"M 37.109375 75.984375 \nL 37.109375 68.5 \nL 28.515625 68.5 \nQ 23.6875 68.5 21.796875 66.546875 \nQ 19.921875 64.59375 19.921875 59.515625 \nL 19.921875 54.6875 \nL 34.71875 54.6875 \nL 34.71875 47.703125 \nL 19.921875 47.703125 \nL 19.921875 0 \nL 10.890625 0 \nL 10.890625 47.703125 \nL 2.296875 47.703125 \nL 2.296875 54.6875 \nL 10.890625 54.6875 \nL 10.890625 58.5 \nQ 10.890625 67.625 15.140625 71.796875 \nQ 19.390625 75.984375 28.609375 75.984375 \nz\n\" id=\"DejaVuSans-102\"/>\n     </defs>\n     <g style=\"fill:#555555;\" transform=\"translate(16.318125 257.465812)rotate(-90)scale(0.12 -0.12)\">\n      <use xlink:href=\"#DejaVuSans-80\"/>\n      <use x=\"60.287109\" xlink:href=\"#DejaVuSans-114\"/>\n      <use x=\"101.369141\" xlink:href=\"#DejaVuSans-111\"/>\n      <use x=\"162.550781\" xlink:href=\"#DejaVuSans-102\"/>\n      <use x=\"197.755859\" xlink:href=\"#DejaVuSans-105\"/>\n      <use x=\"225.539062\" xlink:href=\"#DejaVuSans-116\"/>\n     </g>\n    </g>\n   </g>\n   <g id=\"PathCollection_1\">\n    <defs>\n     <path d=\"M 0 3 \nC 0.795609 3 1.55874 2.683901 2.12132 2.12132 \nC 2.683901 1.55874 3 0.795609 3 0 \nC 3 -0.795609 2.683901 -1.55874 2.12132 -2.12132 \nC 1.55874 -2.683901 0.795609 -3 0 -3 \nC -0.795609 -3 -1.55874 -2.683901 -2.12132 -2.12132 \nC -2.683901 -1.55874 -3 -0.795609 -3 0 \nC -3 0.795609 -2.683901 1.55874 -2.12132 2.12132 \nC -1.55874 2.683901 -0.795609 3 0 3 \nz\n\" id=\"ma9c75ca661\" style=\"stroke:#ffffff;stroke-width:0.75;\"/>\n    </defs>\n    <g clip-path=\"url(#pf45515aa06)\">\n     <use style=\"fill:#e24a33;stroke:#ffffff;stroke-width:0.75;\" x=\"111.516662\" xlink:href=\"#ma9c75ca661\" y=\"140.563696\"/>\n     <use style=\"fill:#e24a33;stroke:#ffffff;stroke-width:0.75;\" x=\"90.888031\" xlink:href=\"#ma9c75ca661\" y=\"265.190211\"/>\n     <use style=\"fill:#e24a33;stroke:#ffffff;stroke-width:0.75;\" x=\"196.825829\" xlink:href=\"#ma9c75ca661\" y=\"198.445258\"/>\n     <use style=\"fill:#e24a33;stroke:#ffffff;stroke-width:0.75;\" x=\"143.1503\" xlink:href=\"#ma9c75ca661\" y=\"225.073722\"/>\n     <use style=\"fill:#e24a33;stroke:#ffffff;stroke-width:0.75;\" x=\"102.651026\" xlink:href=\"#ma9c75ca661\" y=\"299.166541\"/>\n     <use style=\"fill:#e24a33;stroke:#ffffff;stroke-width:0.75;\" x=\"192.019329\" xlink:href=\"#ma9c75ca661\" y=\"224.602422\"/>\n     <use style=\"fill:#e24a33;stroke:#ffffff;stroke-width:0.75;\" x=\"159.911063\" xlink:href=\"#ma9c75ca661\" y=\"335.618669\"/>\n     <use style=\"fill:#e24a33;stroke:#ffffff;stroke-width:0.75;\" x=\"198.933321\" xlink:href=\"#ma9c75ca661\" y=\"222.923415\"/>\n     <use style=\"fill:#e24a33;stroke:#ffffff;stroke-width:0.75;\" x=\"124.838139\" xlink:href=\"#ma9c75ca661\" y=\"302.474479\"/>\n     <use style=\"fill:#e24a33;stroke:#ffffff;stroke-width:0.75;\" x=\"74.13081\" xlink:href=\"#ma9c75ca661\" y=\"343.449618\"/>\n     <use style=\"fill:#e24a33;stroke:#ffffff;stroke-width:0.75;\" x=\"97.369898\" xlink:href=\"#ma9c75ca661\" y=\"351.762176\"/>\n     <use style=\"fill:#e24a33;stroke:#ffffff;stroke-width:0.75;\" x=\"396.786123\" xlink:href=\"#ma9c75ca661\" y=\"171.301309\"/>\n     <use style=\"fill:#e24a33;stroke:#ffffff;stroke-width:0.75;\" x=\"98.195185\" xlink:href=\"#ma9c75ca661\" y=\"353.192278\"/>\n     <use style=\"fill:#e24a33;stroke:#ffffff;stroke-width:0.75;\" x=\"192.92254\" xlink:href=\"#ma9c75ca661\" y=\"293.238467\"/>\n     <use style=\"fill:#e24a33;stroke:#ffffff;stroke-width:0.75;\" x=\"94.890495\" xlink:href=\"#ma9c75ca661\" y=\"389.113016\"/>\n     <use style=\"fill:#e24a33;stroke:#ffffff;stroke-width:0.75;\" x=\"85.635239\" xlink:href=\"#ma9c75ca661\" y=\"347.922552\"/>\n     <use style=\"fill:#e24a33;stroke:#ffffff;stroke-width:0.75;\" x=\"120.559398\" xlink:href=\"#ma9c75ca661\" y=\"321.53121\"/>\n     <use style=\"fill:#e24a33;stroke:#ffffff;stroke-width:0.75;\" x=\"76.805023\" xlink:href=\"#ma9c75ca661\" y=\"391.401915\"/>\n     <use style=\"fill:#e24a33;stroke:#ffffff;stroke-width:0.75;\" x=\"122.833365\" xlink:href=\"#ma9c75ca661\" y=\"345.876814\"/>\n     <use style=\"fill:#e24a33;stroke:#ffffff;stroke-width:0.75;\" x=\"145.544695\" xlink:href=\"#ma9c75ca661\" y=\"320.286683\"/>\n     <use style=\"fill:#e24a33;stroke:#ffffff;stroke-width:0.75;\" x=\"114.314845\" xlink:href=\"#ma9c75ca661\" y=\"353.435292\"/>\n     <use style=\"fill:#e24a33;stroke:#ffffff;stroke-width:0.75;\" x=\"613.060888\" xlink:href=\"#ma9c75ca661\" y=\"79.073741\"/>\n     <use style=\"fill:#e24a33;stroke:#ffffff;stroke-width:0.75;\" x=\"89.556237\" xlink:href=\"#ma9c75ca661\" y=\"336.874979\"/>\n     <use style=\"fill:#e24a33;stroke:#ffffff;stroke-width:0.75;\" x=\"119.167391\" xlink:href=\"#ma9c75ca661\" y=\"323.25882\"/>\n     <use style=\"fill:#e24a33;stroke:#ffffff;stroke-width:0.75;\" x=\"92.205656\" xlink:href=\"#ma9c75ca661\" y=\"354.26154\"/>\n     <use style=\"fill:#e24a33;stroke:#ffffff;stroke-width:0.75;\" x=\"566.129335\" xlink:href=\"#ma9c75ca661\" y=\"66.245537\"/>\n     <use style=\"fill:#e24a33;stroke:#ffffff;stroke-width:0.75;\" x=\"349.464949\" xlink:href=\"#ma9c75ca661\" y=\"200.816487\"/>\n     <use style=\"fill:#e24a33;stroke:#ffffff;stroke-width:0.75;\" x=\"283.194054\" xlink:href=\"#ma9c75ca661\" y=\"295.876276\"/>\n     <use style=\"fill:#e24a33;stroke:#ffffff;stroke-width:0.75;\" x=\"361.791123\" xlink:href=\"#ma9c75ca661\" y=\"183.275281\"/>\n     <use style=\"fill:#e24a33;stroke:#ffffff;stroke-width:0.75;\" x=\"681.527825\" xlink:href=\"#ma9c75ca661\" y=\"44.020784\"/>\n     <use style=\"fill:#e24a33;stroke:#ffffff;stroke-width:0.75;\" x=\"81.136894\" xlink:href=\"#ma9c75ca661\" y=\"417.629332\"/>\n     <use style=\"fill:#e24a33;stroke:#ffffff;stroke-width:0.75;\" x=\"128.493487\" xlink:href=\"#ma9c75ca661\" y=\"311.342288\"/>\n     <use style=\"fill:#e24a33;stroke:#ffffff;stroke-width:0.75;\" x=\"222.66829\" xlink:href=\"#ma9c75ca661\" y=\"220.949845\"/>\n     <use style=\"fill:#e24a33;stroke:#ffffff;stroke-width:0.75;\" x=\"103.784467\" xlink:href=\"#ma9c75ca661\" y=\"372.421328\"/>\n     <use style=\"fill:#e24a33;stroke:#ffffff;stroke-width:0.75;\" x=\"185.934166\" xlink:href=\"#ma9c75ca661\" y=\"303.300727\"/>\n     <use style=\"fill:#e24a33;stroke:#ffffff;stroke-width:0.75;\" x=\"176.098021\" xlink:href=\"#ma9c75ca661\" y=\"332.466849\"/>\n     <use style=\"fill:#e24a33;stroke:#ffffff;stroke-width:0.75;\" x=\"181.853778\" xlink:href=\"#ma9c75ca661\" y=\"339.034124\"/>\n     <use style=\"fill:#e24a33;stroke:#ffffff;stroke-width:0.75;\" x=\"93.672046\" xlink:href=\"#ma9c75ca661\" y=\"349.6914\"/>\n     <use style=\"fill:#e24a33;stroke:#ffffff;stroke-width:0.75;\" x=\"349.74831\" xlink:href=\"#ma9c75ca661\" y=\"250.656489\"/>\n     <use style=\"fill:#e24a33;stroke:#ffffff;stroke-width:0.75;\" x=\"120.134358\" xlink:href=\"#ma9c75ca661\" y=\"318.694572\"/>\n     <use style=\"fill:#e24a33;stroke:#ffffff;stroke-width:0.75;\" x=\"86.60929\" xlink:href=\"#ma9c75ca661\" y=\"391.463773\"/>\n     <use style=\"fill:#e24a33;stroke:#ffffff;stroke-width:0.75;\" x=\"138.875101\" xlink:href=\"#ma9c75ca661\" y=\"342.051918\"/>\n     <use style=\"fill:#e24a33;stroke:#ffffff;stroke-width:0.75;\" x=\"309.794505\" xlink:href=\"#ma9c75ca661\" y=\"320.344123\"/>\n     <use style=\"fill:#e24a33;stroke:#ffffff;stroke-width:0.75;\" x=\"99.601361\" xlink:href=\"#ma9c75ca661\" y=\"363.715529\"/>\n     <use style=\"fill:#e24a33;stroke:#ffffff;stroke-width:0.75;\" x=\"172.247863\" xlink:href=\"#ma9c75ca661\" y=\"300.514165\"/>\n     <use style=\"fill:#e24a33;stroke:#ffffff;stroke-width:0.75;\" x=\"146.334562\" xlink:href=\"#ma9c75ca661\" y=\"384.250964\"/>\n     <use style=\"fill:#e24a33;stroke:#ffffff;stroke-width:0.75;\" x=\"74.683363\" xlink:href=\"#ma9c75ca661\" y=\"324.051194\"/>\n     <use style=\"fill:#e24a33;stroke:#ffffff;stroke-width:0.75;\" x=\"100.582496\" xlink:href=\"#ma9c75ca661\" y=\"372.502333\"/>\n     <use style=\"fill:#e24a33;stroke:#ffffff;stroke-width:0.75;\" x=\"309.511144\" xlink:href=\"#ma9c75ca661\" y=\"281.772616\"/>\n     <use style=\"fill:#e24a33;stroke:#ffffff;stroke-width:0.75;\" x=\"91.380369\" xlink:href=\"#ma9c75ca661\" y=\"384.669243\"/>\n     <use style=\"fill:#e24a33;stroke:#ffffff;stroke-width:0.75;\" x=\"162.170862\" xlink:href=\"#ma9c75ca661\" y=\"300.240221\"/>\n     <use style=\"fill:#e24a33;stroke:#ffffff;stroke-width:0.75;\" x=\"83.095622\" xlink:href=\"#ma9c75ca661\" y=\"372.567137\"/>\n     <use style=\"fill:#e24a33;stroke:#ffffff;stroke-width:0.75;\" x=\"158.051511\" xlink:href=\"#ma9c75ca661\" y=\"336.499412\"/>\n     <use style=\"fill:#e24a33;stroke:#ffffff;stroke-width:0.75;\" x=\"164.398782\" xlink:href=\"#ma9c75ca661\" y=\"326.048329\"/>\n     <use style=\"fill:#e24a33;stroke:#ffffff;stroke-width:0.75;\" x=\"119.404705\" xlink:href=\"#ma9c75ca661\" y=\"378.698458\"/>\n     <use style=\"fill:#e24a33;stroke:#ffffff;stroke-width:0.75;\" x=\"120.329168\" xlink:href=\"#ma9c75ca661\" y=\"420.59116\"/>\n     <use style=\"fill:#e24a33;stroke:#ffffff;stroke-width:0.75;\" x=\"117.329091\" xlink:href=\"#ma9c75ca661\" y=\"363.200044\"/>\n     <use style=\"fill:#e24a33;stroke:#ffffff;stroke-width:0.75;\" x=\"94.855075\" xlink:href=\"#ma9c75ca661\" y=\"331.84974\"/>\n     <use style=\"fill:#e24a33;stroke:#ffffff;stroke-width:0.75;\" x=\"224.864332\" xlink:href=\"#ma9c75ca661\" y=\"341.302256\"/>\n     <use style=\"fill:#e24a33;stroke:#ffffff;stroke-width:0.75;\" x=\"229.943566\" xlink:href=\"#ma9c75ca661\" y=\"319.921425\"/>\n     <use style=\"fill:#e24a33;stroke:#ffffff;stroke-width:0.75;\" x=\"207.692697\" xlink:href=\"#ma9c75ca661\" y=\"323.5254\"/>\n     <use style=\"fill:#e24a33;stroke:#ffffff;stroke-width:0.75;\" x=\"78.547689\" xlink:href=\"#ma9c75ca661\" y=\"410.60092\"/>\n     <use style=\"fill:#e24a33;stroke:#ffffff;stroke-width:0.75;\" x=\"648.799708\" xlink:href=\"#ma9c75ca661\" y=\"135.600315\"/>\n     <use style=\"fill:#e24a33;stroke:#ffffff;stroke-width:0.75;\" x=\"423.138633\" xlink:href=\"#ma9c75ca661\" y=\"222.128096\"/>\n     <use style=\"fill:#e24a33;stroke:#ffffff;stroke-width:0.75;\" x=\"566.625215\" xlink:href=\"#ma9c75ca661\" y=\"148.487431\"/>\n     <use style=\"fill:#e24a33;stroke:#ffffff;stroke-width:0.75;\" x=\"150.765609\" xlink:href=\"#ma9c75ca661\" y=\"327.711135\"/>\n     <use style=\"fill:#e24a33;stroke:#ffffff;stroke-width:0.75;\" x=\"188.90945\" xlink:href=\"#ma9c75ca661\" y=\"315.059669\"/>\n     <use style=\"fill:#e24a33;stroke:#ffffff;stroke-width:0.75;\" x=\"257.656206\" xlink:href=\"#ma9c75ca661\" y=\"285.143885\"/>\n     <use style=\"fill:#e24a33;stroke:#ffffff;stroke-width:0.75;\" x=\"89.885644\" xlink:href=\"#ma9c75ca661\" y=\"384.67808\"/>\n     <use style=\"fill:#e24a33;stroke:#ffffff;stroke-width:0.75;\" x=\"615.575711\" xlink:href=\"#ma9c75ca661\" y=\"90.488044\"/>\n     <use style=\"fill:#e24a33;stroke:#ffffff;stroke-width:0.75;\" x=\"254.114202\" xlink:href=\"#ma9c75ca661\" y=\"301.278555\"/>\n     <use style=\"fill:#e24a33;stroke:#ffffff;stroke-width:0.75;\" x=\"154.884959\" xlink:href=\"#ma9c75ca661\" y=\"340.36702\"/>\n     <use style=\"fill:#e24a33;stroke:#ffffff;stroke-width:0.75;\" x=\"107.83652\" xlink:href=\"#ma9c75ca661\" y=\"380.832565\"/>\n     <use style=\"fill:#e24a33;stroke:#ffffff;stroke-width:0.75;\" x=\"151.038343\" xlink:href=\"#ma9c75ca661\" y=\"350.452845\"/>\n     <use style=\"fill:#e24a33;stroke:#ffffff;stroke-width:0.75;\" x=\"73.149675\" xlink:href=\"#ma9c75ca661\" y=\"439.142716\"/>\n     <use style=\"fill:#e24a33;stroke:#ffffff;stroke-width:0.75;\" x=\"127.023556\" xlink:href=\"#ma9c75ca661\" y=\"395.289995\"/>\n     <use style=\"fill:#e24a33;stroke:#ffffff;stroke-width:0.75;\" x=\"162.114189\" xlink:href=\"#ma9c75ca661\" y=\"342.449578\"/>\n     <use style=\"fill:#e24a33;stroke:#ffffff;stroke-width:0.75;\" x=\"73.489707\" xlink:href=\"#ma9c75ca661\" y=\"315.690033\"/>\n     <use style=\"fill:#e24a33;stroke:#ffffff;stroke-width:0.75;\" x=\"259.002167\" xlink:href=\"#ma9c75ca661\" y=\"300.207819\"/>\n     <use style=\"fill:#e24a33;stroke:#ffffff;stroke-width:0.75;\" x=\"76.011614\" xlink:href=\"#ma9c75ca661\" y=\"369.356404\"/>\n     <use style=\"fill:#e24a33;stroke:#ffffff;stroke-width:0.75;\" x=\"98.025169\" xlink:href=\"#ma9c75ca661\" y=\"392.598428\"/>\n     <use style=\"fill:#e24a33;stroke:#ffffff;stroke-width:0.75;\" x=\"78.870011\" xlink:href=\"#ma9c75ca661\" y=\"396.653378\"/>\n     <use style=\"fill:#e24a33;stroke:#ffffff;stroke-width:0.75;\" x=\"120.215824\" xlink:href=\"#ma9c75ca661\" y=\"389.666352\"/>\n     <use style=\"fill:#e24a33;stroke:#ffffff;stroke-width:0.75;\" x=\"241.104421\" xlink:href=\"#ma9c75ca661\" y=\"288.559339\"/>\n     <use style=\"fill:#e24a33;stroke:#ffffff;stroke-width:0.75;\" x=\"125.890114\" xlink:href=\"#ma9c75ca661\" y=\"320.959759\"/>\n     <use style=\"fill:#e24a33;stroke:#ffffff;stroke-width:0.75;\" x=\"196.776241\" xlink:href=\"#ma9c75ca661\" y=\"337.191634\"/>\n     <use style=\"fill:#e24a33;stroke:#ffffff;stroke-width:0.75;\" x=\"220.259727\" xlink:href=\"#ma9c75ca661\" y=\"299.537689\"/>\n     <use style=\"fill:#e24a33;stroke:#ffffff;stroke-width:0.75;\" x=\"107.687756\" xlink:href=\"#ma9c75ca661\" y=\"386.008767\"/>\n     <use style=\"fill:#e24a33;stroke:#ffffff;stroke-width:0.75;\" x=\"90.629465\" xlink:href=\"#ma9c75ca661\" y=\"397.422334\"/>\n     <use style=\"fill:#e24a33;stroke:#ffffff;stroke-width:0.75;\" x=\"74.300826\" xlink:href=\"#ma9c75ca661\" y=\"358.107056\"/>\n     <use style=\"fill:#e24a33;stroke:#ffffff;stroke-width:0.75;\" x=\"97.263638\" xlink:href=\"#ma9c75ca661\" y=\"372.486132\"/>\n     <use style=\"fill:#e24a33;stroke:#ffffff;stroke-width:0.75;\" x=\"165.585353\" xlink:href=\"#ma9c75ca661\" y=\"336.390424\"/>\n     <use style=\"fill:#e24a33;stroke:#ffffff;stroke-width:0.75;\" x=\"103.037105\" xlink:href=\"#ma9c75ca661\" y=\"293.575741\"/>\n     <use style=\"fill:#e24a33;stroke:#ffffff;stroke-width:0.75;\" x=\"83.014156\" xlink:href=\"#ma9c75ca661\" y=\"370.397683\"/>\n     <use style=\"fill:#e24a33;stroke:#ffffff;stroke-width:0.75;\" x=\"188.849236\" xlink:href=\"#ma9c75ca661\" y=\"397.532206\"/>\n     <use style=\"fill:#e24a33;stroke:#ffffff;stroke-width:0.75;\" x=\"369.512692\" xlink:href=\"#ma9c75ca661\" y=\"266.296293\"/>\n     <use style=\"fill:#e24a33;stroke:#ffffff;stroke-width:0.75;\" x=\"87.671891\" xlink:href=\"#ma9c75ca661\" y=\"390.573015\"/>\n    </g>\n   </g>\n   <g id=\"patch_3\">\n    <path d=\"M 42.53875 459.02175 \nL 42.53875 24.14175 \n\" style=\"fill:none;stroke:#ffffff;stroke-linecap:square;stroke-linejoin:miter;\"/>\n   </g>\n   <g id=\"patch_4\">\n    <path d=\"M 712.13875 459.02175 \nL 712.13875 24.14175 \n\" style=\"fill:none;stroke:#ffffff;stroke-linecap:square;stroke-linejoin:miter;\"/>\n   </g>\n   <g id=\"patch_5\">\n    <path d=\"M 42.53875 459.02175 \nL 712.13875 459.02175 \n\" style=\"fill:none;stroke:#ffffff;stroke-linecap:square;stroke-linejoin:miter;\"/>\n   </g>\n   <g id=\"patch_6\">\n    <path d=\"M 42.53875 24.14175 \nL 712.13875 24.14175 \n\" style=\"fill:none;stroke:#ffffff;stroke-linecap:square;stroke-linejoin:miter;\"/>\n   </g>\n   <g id=\"text_17\">\n    <!-- Profit in $10,000 vs City Population in 10,000 -->\n    <defs>\n     <path id=\"DejaVuSans-32\"/>\n     <path d=\"M 33.796875 -14.703125 \nL 28.90625 -14.703125 \nL 28.859375 0 \nQ 23.734375 0.09375 18.609375 1.1875 \nQ 13.484375 2.296875 8.296875 4.5 \nL 8.296875 13.28125 \nQ 13.28125 10.15625 18.375 8.5625 \nQ 23.484375 6.984375 28.90625 6.9375 \nL 28.90625 29.203125 \nQ 18.109375 30.953125 13.203125 35.15625 \nQ 8.296875 39.359375 8.296875 46.6875 \nQ 8.296875 54.640625 13.625 59.21875 \nQ 18.953125 63.8125 28.90625 64.5 \nL 28.90625 75.984375 \nL 33.796875 75.984375 \nL 33.796875 64.65625 \nQ 38.328125 64.453125 42.578125 63.6875 \nQ 46.828125 62.9375 50.875 61.625 \nL 50.875 53.078125 \nQ 46.828125 55.125 42.546875 56.25 \nQ 38.28125 57.375 33.796875 57.5625 \nL 33.796875 36.71875 \nQ 44.875 35.015625 50.09375 30.609375 \nQ 55.328125 26.21875 55.328125 18.609375 \nQ 55.328125 10.359375 49.78125 5.59375 \nQ 44.234375 0.828125 33.796875 0.09375 \nz\nM 28.90625 37.59375 \nL 28.90625 57.625 \nQ 23.25 56.984375 20.265625 54.390625 \nQ 17.28125 51.8125 17.28125 47.515625 \nQ 17.28125 43.3125 20.03125 40.96875 \nQ 22.796875 38.625 28.90625 37.59375 \nz\nM 33.796875 28.21875 \nL 33.796875 7.078125 \nQ 39.984375 7.90625 43.140625 10.59375 \nQ 46.296875 13.28125 46.296875 17.671875 \nQ 46.296875 21.96875 43.28125 24.5 \nQ 40.28125 27.046875 33.796875 28.21875 \nz\n\" id=\"DejaVuSans-36\"/>\n     <path d=\"M 11.71875 12.40625 \nL 22.015625 12.40625 \nL 22.015625 4 \nL 14.015625 -11.625 \nL 7.71875 -11.625 \nL 11.71875 4 \nz\n\" id=\"DejaVuSans-44\"/>\n     <path d=\"M 2.984375 54.6875 \nL 12.5 54.6875 \nL 29.59375 8.796875 \nL 46.6875 54.6875 \nL 56.203125 54.6875 \nL 35.6875 0 \nL 23.484375 0 \nz\n\" id=\"DejaVuSans-118\"/>\n     <path d=\"M 44.28125 53.078125 \nL 44.28125 44.578125 \nQ 40.484375 46.53125 36.375 47.5 \nQ 32.28125 48.484375 27.875 48.484375 \nQ 21.1875 48.484375 17.84375 46.4375 \nQ 14.5 44.390625 14.5 40.28125 \nQ 14.5 37.15625 16.890625 35.375 \nQ 19.28125 33.59375 26.515625 31.984375 \nL 29.59375 31.296875 \nQ 39.15625 29.25 43.1875 25.515625 \nQ 47.21875 21.78125 47.21875 15.09375 \nQ 47.21875 7.46875 41.1875 3.015625 \nQ 35.15625 -1.421875 24.609375 -1.421875 \nQ 20.21875 -1.421875 15.453125 -0.5625 \nQ 10.6875 0.296875 5.421875 2 \nL 5.421875 11.28125 \nQ 10.40625 8.6875 15.234375 7.390625 \nQ 20.0625 6.109375 24.8125 6.109375 \nQ 31.15625 6.109375 34.5625 8.28125 \nQ 37.984375 10.453125 37.984375 14.40625 \nQ 37.984375 18.0625 35.515625 20.015625 \nQ 33.0625 21.96875 24.703125 23.78125 \nL 21.578125 24.515625 \nQ 13.234375 26.265625 9.515625 29.90625 \nQ 5.8125 33.546875 5.8125 39.890625 \nQ 5.8125 47.609375 11.28125 51.796875 \nQ 16.75 56 26.8125 56 \nQ 31.78125 56 36.171875 55.265625 \nQ 40.578125 54.546875 44.28125 53.078125 \nz\n\" id=\"DejaVuSans-115\"/>\n     <path d=\"M 64.40625 67.28125 \nL 64.40625 56.890625 \nQ 59.421875 61.53125 53.78125 63.8125 \nQ 48.140625 66.109375 41.796875 66.109375 \nQ 29.296875 66.109375 22.65625 58.46875 \nQ 16.015625 50.828125 16.015625 36.375 \nQ 16.015625 21.96875 22.65625 14.328125 \nQ 29.296875 6.6875 41.796875 6.6875 \nQ 48.140625 6.6875 53.78125 8.984375 \nQ 59.421875 11.28125 64.40625 15.921875 \nL 64.40625 5.609375 \nQ 59.234375 2.09375 53.4375 0.328125 \nQ 47.65625 -1.421875 41.21875 -1.421875 \nQ 24.65625 -1.421875 15.125 8.703125 \nQ 5.609375 18.84375 5.609375 36.375 \nQ 5.609375 53.953125 15.125 64.078125 \nQ 24.65625 74.21875 41.21875 74.21875 \nQ 47.75 74.21875 53.53125 72.484375 \nQ 59.328125 70.75 64.40625 67.28125 \nz\n\" id=\"DejaVuSans-67\"/>\n     <path d=\"M 32.171875 -5.078125 \nQ 28.375 -14.84375 24.75 -17.8125 \nQ 21.140625 -20.796875 15.09375 -20.796875 \nL 7.90625 -20.796875 \nL 7.90625 -13.28125 \nL 13.1875 -13.28125 \nQ 16.890625 -13.28125 18.9375 -11.515625 \nQ 21 -9.765625 23.484375 -3.21875 \nL 25.09375 0.875 \nL 2.984375 54.6875 \nL 12.5 54.6875 \nL 29.59375 11.921875 \nL 46.6875 54.6875 \nL 56.203125 54.6875 \nz\n\" id=\"DejaVuSans-121\"/>\n    </defs>\n    <g transform=\"translate(213.960625 18.14175)scale(0.144 -0.144)\">\n     <use xlink:href=\"#DejaVuSans-80\"/>\n     <use x=\"60.287109\" xlink:href=\"#DejaVuSans-114\"/>\n     <use x=\"101.369141\" xlink:href=\"#DejaVuSans-111\"/>\n     <use x=\"162.550781\" xlink:href=\"#DejaVuSans-102\"/>\n     <use x=\"197.755859\" xlink:href=\"#DejaVuSans-105\"/>\n     <use x=\"225.539062\" xlink:href=\"#DejaVuSans-116\"/>\n     <use x=\"264.748047\" xlink:href=\"#DejaVuSans-32\"/>\n     <use x=\"296.535156\" xlink:href=\"#DejaVuSans-105\"/>\n     <use x=\"324.318359\" xlink:href=\"#DejaVuSans-110\"/>\n     <use x=\"387.697266\" xlink:href=\"#DejaVuSans-32\"/>\n     <use x=\"419.484375\" xlink:href=\"#DejaVuSans-36\"/>\n     <use x=\"483.107422\" xlink:href=\"#DejaVuSans-49\"/>\n     <use x=\"546.730469\" xlink:href=\"#DejaVuSans-48\"/>\n     <use x=\"610.353516\" xlink:href=\"#DejaVuSans-44\"/>\n     <use x=\"642.140625\" xlink:href=\"#DejaVuSans-48\"/>\n     <use x=\"705.763672\" xlink:href=\"#DejaVuSans-48\"/>\n     <use x=\"769.386719\" xlink:href=\"#DejaVuSans-48\"/>\n     <use x=\"833.009766\" xlink:href=\"#DejaVuSans-32\"/>\n     <use x=\"864.796875\" xlink:href=\"#DejaVuSans-118\"/>\n     <use x=\"923.976562\" xlink:href=\"#DejaVuSans-115\"/>\n     <use x=\"976.076172\" xlink:href=\"#DejaVuSans-32\"/>\n     <use x=\"1007.863281\" xlink:href=\"#DejaVuSans-67\"/>\n     <use x=\"1077.6875\" xlink:href=\"#DejaVuSans-105\"/>\n     <use x=\"1105.470703\" xlink:href=\"#DejaVuSans-116\"/>\n     <use x=\"1144.679688\" xlink:href=\"#DejaVuSans-121\"/>\n     <use x=\"1203.859375\" xlink:href=\"#DejaVuSans-32\"/>\n     <use x=\"1235.646484\" xlink:href=\"#DejaVuSans-80\"/>\n     <use x=\"1295.902344\" xlink:href=\"#DejaVuSans-111\"/>\n     <use x=\"1357.083984\" xlink:href=\"#DejaVuSans-112\"/>\n     <use x=\"1420.560547\" xlink:href=\"#DejaVuSans-117\"/>\n     <use x=\"1483.939453\" xlink:href=\"#DejaVuSans-108\"/>\n     <use x=\"1511.722656\" xlink:href=\"#DejaVuSans-97\"/>\n     <use x=\"1573.001953\" xlink:href=\"#DejaVuSans-116\"/>\n     <use x=\"1612.210938\" xlink:href=\"#DejaVuSans-105\"/>\n     <use x=\"1639.994141\" xlink:href=\"#DejaVuSans-111\"/>\n     <use x=\"1701.175781\" xlink:href=\"#DejaVuSans-110\"/>\n     <use x=\"1764.554688\" xlink:href=\"#DejaVuSans-32\"/>\n     <use x=\"1796.341797\" xlink:href=\"#DejaVuSans-105\"/>\n     <use x=\"1824.125\" xlink:href=\"#DejaVuSans-110\"/>\n     <use x=\"1887.503906\" xlink:href=\"#DejaVuSans-32\"/>\n     <use x=\"1919.291016\" xlink:href=\"#DejaVuSans-49\"/>\n     <use x=\"1982.914062\" xlink:href=\"#DejaVuSans-48\"/>\n     <use x=\"2046.537109\" xlink:href=\"#DejaVuSans-44\"/>\n     <use x=\"2078.324219\" xlink:href=\"#DejaVuSans-48\"/>\n     <use x=\"2141.947266\" xlink:href=\"#DejaVuSans-48\"/>\n     <use x=\"2205.570312\" xlink:href=\"#DejaVuSans-48\"/>\n    </g>\n   </g>\n  </g>\n </g>\n <defs>\n  <clipPath id=\"pf45515aa06\">\n   <rect height=\"434.88\" width=\"669.6\" x=\"42.53875\" y=\"24.14175\"/>\n  </clipPath>\n </defs>\n</svg>\n",
      "image/png": "[encoded data removed]"
     },
     "metadata": {
      "needs_background": "light"
     }
    }
   ],
   "source": [
    "ax = sns.scatterplot(x='Population',y='Profit',data=data)\n",
    "ax.set_title('Profit in $10,000 vs City Population in 10,000');"
   ]
  },
  {
   "cell_type": "code",
   "execution_count": 12,
   "metadata": {},
   "outputs": [
    {
     "output_type": "execute_result",
     "data": {
      "text/plain": "0.837873232526341"
     },
     "metadata": {},
     "execution_count": 12
    }
   ],
   "source": [
    " np.corrcoef(data['Population'],data['Profit'])[0,1]"
   ]
  },
  {
   "cell_type": "markdown",
   "metadata": {},
   "source": []
  },
  {
   "cell_type": "markdown",
   "metadata": {},
   "source": [
    "### Task 4: Compute the Cost $J(\\theta)$\n",
    "---"
   ]
  },
  {
   "cell_type": "markdown",
   "metadata": {},
   "source": [
    "The objective of linear regression is to minimize the cost function\n",
    "\n",
    "$$J(\\theta) = \\frac{1}{2m} \\sum_{i=1}^m (h_\\theta(x^{(i)}) - y^{(i)} )^2$$\n",
    "\n",
    "where $h_{\\theta}(x)$ is the hypothesis and given by the linear model\n",
    "\n",
    "$$h_{\\theta}(x) = \\theta^Tx = \\theta_0 + \\theta_1x_1$$"
   ]
  },
  {
   "cell_type": "code",
   "execution_count": 46,
   "metadata": {},
   "outputs": [],
   "source": [
    "def cost_function(X,y,theta):\n",
    "    m = len(y)\n",
    "    y_pred = X.dot(theta)\n",
    "    error = (y_pred - y)**2\n",
    "    return 1/(2*m) * np.sum(error)"
   ]
  },
  {
   "cell_type": "code",
   "execution_count": 47,
   "metadata": {},
   "outputs": [],
   "source": [
    "m = data.Population.shape[0]\n",
    "X = np.append(np.ones((m,1)), data.Population.values.reshape(m,1),axis=1)\n",
    "y = data.Profit.values.reshape(m,1)\n",
    "theta = np.zeros((2,1))\n"
   ]
  },
  {
   "cell_type": "code",
   "execution_count": 48,
   "metadata": {},
   "outputs": [
    {
     "output_type": "execute_result",
     "data": {
      "text/plain": "32.072733877455676"
     },
     "metadata": {},
     "execution_count": 48
    }
   ],
   "source": [
    "cost_function(X,y,theta)"
   ]
  },
  {
   "cell_type": "markdown",
   "metadata": {},
   "source": [
    "\n",
    "My Solution:\n",
    "* Minimising cost function when $\\theta_0$ = 0 and $\\theta_1$ = 0"
   ]
  },
  {
   "cell_type": "markdown",
   "metadata": {},
   "source": [
    "\n",
    "$$h_{\\theta}(x) = \\theta^Tx = \\theta_0 + \\theta_1x_1$$ $=>$ \n",
    "\n",
    "$$h_{\\theta}(x) = 0 + 0x_1$$ $=>$\n",
    "\n",
    "\n",
    "$$h_{\\theta}(x) = 0$$ \n",
    "\n",
    "\n",
    "<br>\n",
    "\n",
    "\n",
    "$$J(\\theta) = \\frac{1}{2m} \\sum_{i=1}^m (y^{(i)} )^2$$\n",
    "\n",
    "<br>\n",
    "\n"
   ]
  },
  {
   "cell_type": "code",
   "execution_count": 54,
   "metadata": {},
   "outputs": [
    {
     "output_type": "execute_result",
     "data": {
      "text/plain": "32.072733877455676"
     },
     "metadata": {},
     "execution_count": 54
    }
   ],
   "source": [
    "np.sum(data['Profit'] ** 2) / (2*(data.shape[0])) # y"
   ]
  },
  {
   "cell_type": "markdown",
   "metadata": {},
   "source": [
    "Verify: \n",
    "\n",
    "\n",
    "$$h_{\\theta}(x) = 0 + 0x_1$$ \n",
    "\n",
    "<\\br>\n",
    "\n",
    "\n",
    "$$\n",
    "\\begin{bmatrix}\n",
    "1 & 6.1101 \\\\\n",
    "1 & 5.5277 \\\\\n",
    "... & ... \\\\\n",
    "1 & 5.4369\n",
    "\\end{bmatrix}\n",
    "*\n",
    "\n",
    "\\begin{bmatrix}\n",
    "0 \\\\\n",
    "0\n",
    "\\end{bmatrix}\n",
    "\n",
    "= \n",
    "\n",
    "\\begin{bmatrix}\n",
    "0 \\\\\n",
    "0 \\\\\n",
    "...\\\\\n",
    "0\n",
    "\\end{bmatrix}\n",
    "$$\n",
    "\n"
   ]
  },
  {
   "cell_type": "code",
   "execution_count": 62,
   "metadata": {},
   "outputs": [],
   "source": [
    "X = np.column_stack(\\\n",
    "    [np.ones((m,1)),\\\n",
    "    data.Population.values.reshape(m,1)\n",
    "    ])\n"
   ]
  },
  {
   "cell_type": "markdown",
   "metadata": {},
   "source": [
    "### Task 5: Gradient Descent\n",
    "---"
   ]
  },
  {
   "cell_type": "markdown",
   "metadata": {},
   "source": [
    "Minimize the cost function $J(\\theta)$ by updating the below equation and repeat unitil convergence\n",
    "        \n",
    "$\\theta_j := \\theta_j - \\alpha \\frac{1}{m} \\sum_{i=1}^m (h_{\\theta}(x^{(i)}) - y^{(i)})x_j^{(i)}$ (simultaneously update $\\theta_j$ for all $j$)."
   ]
  },
  {
   "cell_type": "code",
   "execution_count": null,
   "metadata": {},
   "outputs": [],
   "source": []
  },
  {
   "cell_type": "code",
   "execution_count": null,
   "metadata": {},
   "outputs": [],
   "source": []
  },
  {
   "cell_type": "code",
   "execution_count": null,
   "metadata": {},
   "outputs": [],
   "source": []
  },
  {
   "cell_type": "markdown",
   "metadata": {},
   "source": [
    "### Task 6: Visualising the Cost Function $J(\\theta)$\n",
    "---"
   ]
  },
  {
   "cell_type": "code",
   "execution_count": null,
   "metadata": {},
   "outputs": [],
   "source": []
  },
  {
   "cell_type": "code",
   "execution_count": null,
   "metadata": {},
   "outputs": [],
   "source": []
  },
  {
   "cell_type": "code",
   "execution_count": null,
   "metadata": {},
   "outputs": [],
   "source": []
  },
  {
   "cell_type": "markdown",
   "metadata": {},
   "source": [
    " "
   ]
  },
  {
   "cell_type": "markdown",
   "metadata": {},
   "source": [
    "### Task 7: Plotting the Convergence\n",
    "---"
   ]
  },
  {
   "cell_type": "markdown",
   "metadata": {},
   "source": [
    "Plot $J(\\theta)$ against the number of iterations of gradient descent:"
   ]
  },
  {
   "cell_type": "code",
   "execution_count": null,
   "metadata": {},
   "outputs": [],
   "source": []
  },
  {
   "cell_type": "markdown",
   "metadata": {},
   "source": [
    " "
   ]
  },
  {
   "cell_type": "markdown",
   "metadata": {},
   "source": [
    "### Task 8: Training Data with Linear Regression Fit\n",
    "---"
   ]
  },
  {
   "cell_type": "code",
   "execution_count": null,
   "metadata": {},
   "outputs": [],
   "source": []
  },
  {
   "cell_type": "code",
   "execution_count": null,
   "metadata": {},
   "outputs": [],
   "source": []
  },
  {
   "cell_type": "code",
   "execution_count": null,
   "metadata": {},
   "outputs": [],
   "source": []
  },
  {
   "cell_type": "markdown",
   "metadata": {},
   "source": [
    "### Task 9: Inference using the optimized $\\theta$ values\n",
    "---"
   ]
  },
  {
   "cell_type": "markdown",
   "metadata": {},
   "source": [
    "$h_\\theta(x) = \\theta^Tx$"
   ]
  },
  {
   "cell_type": "code",
   "execution_count": null,
   "metadata": {},
   "outputs": [],
   "source": []
  },
  {
   "cell_type": "code",
   "execution_count": null,
   "metadata": {},
   "outputs": [],
   "source": []
  },
  {
   "cell_type": "code",
   "execution_count": null,
   "metadata": {},
   "outputs": [],
   "source": []
  }
 ],
 "metadata": {
  "kernelspec": {
   "display_name": "Python 3.7.4 64-bit",
   "language": "python",
   "name": "python37464bit35311e3470d14a38b7fcc4af78d751a3"
  },
  "language_info": {
   "codemirror_mode": {
    "name": "ipython",
    "version": 3
   },
   "file_extension": ".py",
   "mimetype": "text/x-python",
   "name": "python",
   "nbconvert_exporter": "python",
   "pygments_lexer": "ipython3",
   "version": "3.7.4-final"
  }
 },
 "nbformat": 4,
 "nbformat_minor": 2
}